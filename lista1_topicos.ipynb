{
 "cells": [
  {
   "cell_type": "markdown",
   "id": "5b7f40a1-8fa5-4841-90f3-b02acfac9e25",
   "metadata": {},
   "source": [
    "## Lista 1 - Tópicos Especiais em Cosmologia e Astrofísica\n",
    "\n",
    "2022\n",
    "\n",
    "Andressa Wille"
   ]
  },
  {
   "cell_type": "markdown",
   "id": "b5124c5a-e8ba-44c4-8ea9-90b3f1359db7",
   "metadata": {},
   "source": [
    "bibliotecas"
   ]
  },
  {
   "cell_type": "code",
   "execution_count": 2,
   "id": "f41f3865-1736-409f-8f03-e91da79ee5e6",
   "metadata": {},
   "outputs": [],
   "source": [
    "import numpy as np\n",
    "import matplotlib.pyplot as plt\n",
    "import pylab\n",
    "from scipy.integrate import quad\n",
    "from scipy.integrate import odeint\n",
    "import pandas as pd\n",
    "import sympy as sy\n",
    "\n",
    "plt.rcParams['text.usetex'] = True\n",
    "plt.rcParams['font.size'] = 15"
   ]
  },
  {
   "cell_type": "markdown",
   "id": "a9a5aed8-9f53-4640-9903-ca9fbeb0e06d",
   "metadata": {},
   "source": [
    "constantes"
   ]
  },
  {
   "cell_type": "code",
   "execution_count": 3,
   "id": "39e2e145-3488-4b5e-bdaa-49c0a604dc23",
   "metadata": {},
   "outputs": [
    {
     "name": "stdout",
     "output_type": "stream",
     "text": [
      "velocidade da luz: 300000000.0 m/s \n",
      "constante de Hubble: 70 km/s/Mpc \n",
      "tempo de Hubble: 13.969919856299047 Gyr\n"
     ]
    }
   ],
   "source": [
    "c = 3e8 #m/s\n",
    "H0 = 70 #km/s/Mpc\n",
    "tH0 = (1/H0)*3.086e19 #s\n",
    "tH0 = (tH0/31557600)/1e9 #Gyr\n",
    "\n",
    "print(f'velocidade da luz: {c} m/s \\nconstante de Hubble: {H0} km/s/Mpc \\ntempo de Hubble: {tH0} Gyr') "
   ]
  },
  {
   "cell_type": "code",
   "execution_count": 4,
   "id": "ad903ee3-0370-4e79-bf47-2620bb597a60",
   "metadata": {},
   "outputs": [],
   "source": [
    "M_sol = 4.83\n",
    "L_sol = 3.83e33 #ergs/s"
   ]
  },
  {
   "cell_type": "code",
   "execution_count": 5,
   "id": "5301263b-a764-47e3-86c5-12c584e9db84",
   "metadata": {},
   "outputs": [],
   "source": [
    "rho_m0 = 3e-27\n",
    "rho_lambda0 = 6e-27\n",
    "rho_r0 = 5e-31"
   ]
  },
  {
   "cell_type": "code",
   "execution_count": 6,
   "id": "64defd18-1180-4201-8626-29ff634ed1b2",
   "metadata": {},
   "outputs": [],
   "source": [
    "h = H0/100.0\n",
    "omega_m0 = 0.3\n",
    "omega_lambda0 = 0.7\n",
    "omega_r0 = 4.2e-5*h**(-2)\n",
    "omega_k = 0.0"
   ]
  },
  {
   "cell_type": "markdown",
   "id": "7d3ebeea-22e8-4ef2-9b7a-597acc9787a7",
   "metadata": {
    "tags": []
   },
   "source": [
    "### Ex 1 - Lei de Hubble em baixo redshift"
   ]
  },
  {
   "cell_type": "markdown",
   "id": "fb5e1341-47f0-46d0-9ada-7e080a7c73a2",
   "metadata": {},
   "source": [
    "a)"
   ]
  },
  {
   "cell_type": "code",
   "execution_count": 17,
   "id": "92c912e7-0615-4508-bad4-e5c4c37bdb19",
   "metadata": {},
   "outputs": [],
   "source": [
    "emitido1 = 3954 #angstrons\n",
    "observado1 = 3934 #angstrons\n",
    "emitido2 = 3989 #angstrons\n",
    "observado2 = 3969 #angstrons"
   ]
  },
  {
   "cell_type": "code",
   "execution_count": 18,
   "id": "39c80cda-ece2-4bf6-97b8-ec71b563702d",
   "metadata": {},
   "outputs": [
    {
     "name": "stdout",
     "output_type": "stream",
     "text": [
      "0.0050614683727715415\n"
     ]
    }
   ],
   "source": [
    "z1 = (emitido1 - observado1)/observado1\n",
    "z2 = (emitido2 - observado2)/observado2\n",
    "z = (z1+z2)/2\n",
    "print(z)"
   ]
  },
  {
   "cell_type": "markdown",
   "id": "caa9db79-d8e5-4fda-a25b-823bcbd4d06b",
   "metadata": {},
   "source": [
    "b)"
   ]
  },
  {
   "cell_type": "code",
   "execution_count": 30,
   "id": "19d26fc3-ccd6-48c6-b937-da79c3f3f0b0",
   "metadata": {},
   "outputs": [
    {
     "name": "stdout",
     "output_type": "stream",
     "text": [
      "1518440.5118314624\n",
      "1518.4405118314623\n"
     ]
    }
   ],
   "source": [
    "v = c*z\n",
    "print(v) #m/s\n",
    "v = v/1000\n",
    "print(v) #km/s"
   ]
  },
  {
   "cell_type": "markdown",
   "id": "f4104b84-c510-42ae-8934-439d3c706ba8",
   "metadata": {},
   "source": [
    "c)"
   ]
  },
  {
   "cell_type": "code",
   "execution_count": 20,
   "id": "df9a8828-1593-45d1-ba9c-80eae53f9fbe",
   "metadata": {},
   "outputs": [
    {
     "name": "stdout",
     "output_type": "stream",
     "text": [
      "21.692007311878033\n"
     ]
    }
   ],
   "source": [
    "d = v/H0 #Mpc\n",
    "print(d)"
   ]
  },
  {
   "cell_type": "markdown",
   "id": "6a167e1d-d37f-45d4-aaab-21c152cdfba7",
   "metadata": {},
   "source": [
    "d)"
   ]
  },
  {
   "cell_type": "code",
   "execution_count": 21,
   "id": "738a0768-98e2-4bdc-a2c8-4ea92a604b4b",
   "metadata": {},
   "outputs": [],
   "source": [
    "m = 12"
   ]
  },
  {
   "cell_type": "code",
   "execution_count": 22,
   "id": "40607e46-57cd-4bbb-848e-a5921664d96e",
   "metadata": {},
   "outputs": [
    {
     "name": "stdout",
     "output_type": "stream",
     "text": [
      "21692007.311878033\n"
     ]
    }
   ],
   "source": [
    "d = d*(10**6) #pc\n",
    "print(d)"
   ]
  },
  {
   "cell_type": "code",
   "execution_count": 23,
   "id": "dc680db8-c689-4fc5-a877-8c1cdde4a412",
   "metadata": {},
   "outputs": [
    {
     "name": "stdout",
     "output_type": "stream",
     "text": [
      "-19.681498710770747\n"
     ]
    }
   ],
   "source": [
    "M = -5*np.log10(d) + 5 + m\n",
    "print(M)"
   ]
  },
  {
   "cell_type": "code",
   "execution_count": 27,
   "id": "3d5541e1-ea8d-4f42-9ccb-e810b2ebad96",
   "metadata": {},
   "outputs": [
    {
     "name": "stdout",
     "output_type": "stream",
     "text": [
      "6376751372.413813\n"
     ]
    }
   ],
   "source": [
    "L = 10**((M - M_sol)/(-2.5))\n",
    "print(L) #Lsol \n",
    "#R: 1.1e10 Lsun?"
   ]
  },
  {
   "cell_type": "code",
   "execution_count": 28,
   "id": "c5e528ab-95b4-4cdf-bc60-06758bf6c397",
   "metadata": {},
   "outputs": [
    {
     "name": "stdout",
     "output_type": "stream",
     "text": [
      "2.44229577563449e+43\n"
     ]
    }
   ],
   "source": [
    "L = L_sol * 10**((M - M_sol)/(-2.5))\n",
    "print(L) #ergs/s"
   ]
  },
  {
   "cell_type": "markdown",
   "id": "b7653c7e-ef01-4dcc-8a8a-ccbc3d0bd9ff",
   "metadata": {},
   "source": [
    "e)"
   ]
  },
  {
   "cell_type": "code",
   "execution_count": 66,
   "id": "c22e5e26-80db-4a5a-b80e-4f0e9821c2a6",
   "metadata": {},
   "outputs": [
    {
     "name": "stdout",
     "output_type": "stream",
     "text": [
      "0.001494006503596103\n"
     ]
    }
   ],
   "source": [
    "R = 32408 #pc\n",
    "\n",
    "theta = R/d\n",
    "print(theta) #rad"
   ]
  },
  {
   "cell_type": "code",
   "execution_count": 67,
   "id": "37f85ebe-c25f-45f3-9f12-0280e5ae76f0",
   "metadata": {},
   "outputs": [
    {
     "name": "stdout",
     "output_type": "stream",
     "text": [
      "5.136016033269201\n"
     ]
    }
   ],
   "source": [
    "#rad × (60 × 180)/π = arcmin\n",
    "theta2 = theta*((60*180)/np.pi)\n",
    "print(theta2)"
   ]
  },
  {
   "cell_type": "markdown",
   "id": "a6e00165-f3ec-4380-9dee-066377b26cd7",
   "metadata": {},
   "source": [
    "### Ex 2 - Densidades em função do redshift"
   ]
  },
  {
   "cell_type": "markdown",
   "id": "d0762024-d56d-4c62-b2cf-25582860ebf4",
   "metadata": {},
   "source": [
    "a)"
   ]
  },
  {
   "cell_type": "code",
   "execution_count": 7,
   "id": "1b441c23-bed0-41d5-9955-a7f794b80701",
   "metadata": {},
   "outputs": [],
   "source": [
    "#array de redshifts\n",
    "zs = np.logspace(-3,5,50)"
   ]
  },
  {
   "cell_type": "code",
   "execution_count": 8,
   "id": "b1adca25-be3c-4ed0-b13a-74bfad3ed7eb",
   "metadata": {},
   "outputs": [],
   "source": [
    "#evolução das densidades\n",
    "rho_m = (rho_m0)/((1/(1+zs))**3)\n",
    "rho_r = (rho_r0)/((1/(1+zs))**4)\n",
    "rho_lambda = rho_lambda0/(1/(1+zs))**0"
   ]
  },
  {
   "cell_type": "code",
   "execution_count": 9,
   "id": "2f7b83e9-0263-4356-b46b-88a3bb7219db",
   "metadata": {},
   "outputs": [
    {
     "name": "stdout",
     "output_type": "stream",
     "text": [
      "5999.0\n",
      "0.2599210498948732\n"
     ]
    }
   ],
   "source": [
    "#eras\n",
    "z1 = (rho_m0/rho_r0) - 1\n",
    "print(z1)\n",
    "z2 = (rho_lambda0/rho_m0)**(1/3) - 1\n",
    "print(z2)"
   ]
  },
  {
   "cell_type": "code",
   "execution_count": 14,
   "id": "ad8d8eb1-48fc-4371-a1bb-bb8b5abaca8e",
   "metadata": {},
   "outputs": [
    {
     "data": {
      "image/png": "[encoded data removed]",
      "text/plain": [
       "<Figure size 576x432 with 1 Axes>"
      ]
     },
     "metadata": {
      "needs_background": "light"
     },
     "output_type": "display_data"
    }
   ],
   "source": [
    "#plot\n",
    "x1 = 10e4\n",
    "x2 = 10e-3\n",
    "y1 = 10e-32\n",
    "y2 = 10e-6\n",
    "\n",
    "plt.figure(figsize=[8,6])\n",
    "plt.plot(zs, rho_m , 'r-', label=r'$\\rho_{m}$')\n",
    "plt.plot(zs, rho_r , 'b-', label=r'$\\rho_{r}$')\n",
    "plt.plot(zs, rho_lambda, 'g-', label=r'$\\rho_{\\Lambda}$')\n",
    "\n",
    "plt.vlines(z1, y1, y2, colors='grey')\n",
    "plt.vlines(z2, y1, y2, colors='grey')\n",
    "plt.annotate('radiation \\ndom.', xy=(4*10e3, 10e-18), fontsize=12, color='blue')\n",
    "plt.annotate('matter \\ndom.', xy=(10e1, 10e-18), fontsize=12, color='red')\n",
    "plt.annotate('dark matter \\ndom.', xy=(10e-2, 10e-18), fontsize=12, color='green')\n",
    "\n",
    "plt.legend(loc='upper right', fontsize=15)\n",
    "plt.xlabel('$z$', fontsize=15)\n",
    "plt.ylabel(r'$\\rho$ (kg/m³)', fontsize=15)\n",
    "plt.ylim(y1,y2)\n",
    "plt.xlim(x1, x2)\n",
    "plt.yscale('log')\n",
    "plt.xscale('log')\n",
    "#plt.title('Densidades em função do redshift', fontsize=15)\n",
    "plt.tight_layout()\n",
    "plt.savefig('2a.png')"
   ]
  },
  {
   "cell_type": "markdown",
   "id": "5d0ea605-c653-4994-9879-171f2e7d8f3b",
   "metadata": {},
   "source": [
    "b) Resolução na lista."
   ]
  },
  {
   "cell_type": "markdown",
   "id": "496c7cfb-f7b8-4e66-818d-f730ad968481",
   "metadata": {},
   "source": [
    "c)"
   ]
  },
  {
   "cell_type": "code",
   "execution_count": 15,
   "id": "51b4d352-132c-4f57-abbb-d45761f5970d",
   "metadata": {},
   "outputs": [],
   "source": [
    "#array de redshifts\n",
    "#b = 1+z\n",
    "b = np.logspace(-2,5,50)"
   ]
  },
  {
   "cell_type": "code",
   "execution_count": 16,
   "id": "d206fc34-5774-41e1-83e9-f2218f775f07",
   "metadata": {},
   "outputs": [],
   "source": [
    "#(H0/H(z))^2\n",
    "H0_H_quad = (1/(omega_lambda0 + omega_k*(b)**2 + omega_m0*(b)**3 + omega_r0*(b)**4))"
   ]
  },
  {
   "cell_type": "code",
   "execution_count": 17,
   "id": "f055e330-a7df-44bc-ac8e-44196f7c9de7",
   "metadata": {},
   "outputs": [],
   "source": [
    "#evolução dos parâmetros\n",
    "omega_m = omega_m0*((b)**3)*H0_H_quad\n",
    "omega_r = omega_r0*((b)**4)*H0_H_quad\n",
    "omega_lambda = omega_lambda0*H0_H_quad"
   ]
  },
  {
   "cell_type": "code",
   "execution_count": 18,
   "id": "3522f1e4-1089-4986-9209-30b03fd9f276",
   "metadata": {},
   "outputs": [
    {
     "name": "stdout",
     "output_type": "stream",
     "text": [
      "3498.9999999999995 0.3263524026321307\n"
     ]
    }
   ],
   "source": [
    "#eras\n",
    "z1 = (1/(omega_r0/omega_m0))-1\n",
    "z2 = (1/(omega_m0/omega_lambda0)**(1/3))-1\n",
    "print(z1, z2)"
   ]
  },
  {
   "cell_type": "code",
   "execution_count": 20,
   "id": "cf78188a-697e-4136-9ba3-1e89d85a6bee",
   "metadata": {},
   "outputs": [
    {
     "data": {
      "image/png": "[encoded data removed]",
      "text/plain": [
       "<Figure size 576x432 with 1 Axes>"
      ]
     },
     "metadata": {
      "needs_background": "light"
     },
     "output_type": "display_data"
    }
   ],
   "source": [
    "#plot\n",
    "x1 = 10e4\n",
    "x2 = 10e-2\n",
    "y1 = -0.1\n",
    "y2 = 1.0\n",
    "\n",
    "plt.figure(figsize=[8,6])\n",
    "plt.plot(b, omega_m, 'r-', label='$\\Omega_{m}$')\n",
    "plt.plot(b, omega_r, 'b-', label='$\\Omega_{r}$')\n",
    "plt.plot(b, omega_lambda, 'g-', label='$\\Omega_{\\Lambda}$')\n",
    "\n",
    "plt.vlines(z1+1, y1, y2, colors='grey')\n",
    "plt.vlines(z2+1, y1, y2, colors='grey')\n",
    "plt.annotate('equipartição \\nradiação-matéria', xy=(z1-1000, 0.45), fontsize=12, color='darkgrey') \n",
    "plt.annotate('equipartição \\nmatéria-energia escura', xy=(z2+35, 0.45), fontsize=12, color='darkgrey') \n",
    "\n",
    "plt.legend(loc='upper left', fontsize=15)\n",
    "plt.xlabel('$z+1$', fontsize=15)\n",
    "plt.ylabel('$\\Omega$', fontsize=15)\n",
    "plt.ylim(y1,y2)\n",
    "plt.xlim(x1, x2)\n",
    "plt.xscale('log')\n",
    "#plt.title('Parâmetros de densidade em função do redshift', fontsize=15)\n",
    "plt.tight_layout()\n",
    "plt.savefig('2c2.png')"
   ]
  },
  {
   "cell_type": "markdown",
   "id": "62024e53-b7d1-4ac7-a3c6-61d9dd5e5cab",
   "metadata": {},
   "source": [
    "### Ex 3 - Evolução do fator de escala"
   ]
  },
  {
   "cell_type": "markdown",
   "id": "77fe505e-8174-471a-9660-79d20fed2f48",
   "metadata": {},
   "source": [
    "a)"
   ]
  },
  {
   "cell_type": "code",
   "execution_count": 11,
   "id": "a70fecc4-fa17-433d-b711-fcea381bd7e1",
   "metadata": {},
   "outputs": [
    {
     "data": {
      "image/png": "[encoded data removed]",
      "text/plain": [
       "<Figure size 576x432 with 1 Axes>"
      ]
     },
     "metadata": {
      "needs_background": "light"
     },
     "output_type": "display_data"
    }
   ],
   "source": [
    "#lado direito da igualdade\n",
    "def f(y, t):\n",
    "    return (y)\n",
    "\n",
    "#condição inicial\n",
    "y0 = 1\n",
    "\n",
    "#eixo x\n",
    "x1 = 0\n",
    "x2 = 1.75\n",
    "t = np.arange(x1, x2, 0.1)\n",
    "\n",
    "#solução numérica\n",
    "y = odeint(f, y0, t)\n",
    "\n",
    "#plot\n",
    "plt.figure(figsize=[8,6])\n",
    "plt.plot(t, y, 'b-', label=\"solução de $y'(t) = y(t)$\")\n",
    "plt.plot(t, np.exp(t), 'ko', label='pontos $y=e^t$')\n",
    "plt.xlabel('$t$', fontsize=15)\n",
    "plt.ylabel('$y(t)$', fontsize=15)\n",
    "plt.xlim(x1, x2)\n",
    "plt.legend()\n",
    "plt.grid()\n",
    "#plt.title('Solução exemplo', fontsize=15)\n",
    "plt.tight_layout()\n",
    "plt.savefig('3a.png')"
   ]
  },
  {
   "cell_type": "markdown",
   "id": "8a414ff6-192c-4933-8fce-4fede9367e28",
   "metadata": {},
   "source": [
    "b)"
   ]
  },
  {
   "cell_type": "markdown",
   "id": "25734c68-cb95-48b5-80af-3905f509d5b7",
   "metadata": {},
   "source": [
    "i)"
   ]
  },
  {
   "cell_type": "code",
   "execution_count": 31,
   "id": "3fc1cbae-78ed-4406-bfca-b768ce71f941",
   "metadata": {},
   "outputs": [
    {
     "name": "stdout",
     "output_type": "stream",
     "text": [
      "A idade do universo ΛCDM é 13.46 Gyr\n"
     ]
    }
   ],
   "source": [
    "#idade atual\n",
    "def integrando(a):\n",
    "    Ea = ((omega_r0/a**2)+(omega_m0/a)+((1-omega_m0-omega_lambda0))+omega_lambda0*a**2)**0.5\n",
    "    return (1/((1/tH0)*Ea))\n",
    "a = sy.Symbol('a')\n",
    "idade = sy.integrate(integrando(a), (a, 0, 1)).evalf()\n",
    "idade = round(idade,2)\n",
    "print(f'A idade do universo ΛCDM é {idade} Gyr')"
   ]
  },
  {
   "cell_type": "code",
   "execution_count": 38,
   "id": "cd5583a1-c18a-4e3b-9bed-cbd68f0a8cab",
   "metadata": {},
   "outputs": [
    {
     "data": {
      "image/png": "[encoded data removed]",
      "text/plain": [
       "<Figure size 576x432 with 1 Axes>"
      ]
     },
     "metadata": {
      "needs_background": "light"
     },
     "output_type": "display_data"
    }
   ],
   "source": [
    "#lado direito da igualdade\n",
    "def dadt(a, t):\n",
    "    Ea = np.sqrt((omega_r0/a**2)+(omega_m0/a)+((1-omega_m0-omega_lambda0))+omega_lambda0*a**2)\n",
    "    return ((1/tH0)*Ea)\n",
    "\n",
    "#H0 em 1/Gyr\n",
    "\n",
    "#condições inicial\n",
    "a0 = [1e-12] #0\n",
    "#eixo x\n",
    "x1 = 0\n",
    "x2 = 14\n",
    "\n",
    "t = np.arange(x1, x2, 0.1)\n",
    "\n",
    "#solução numérica\n",
    "a = odeint(dadt, a0, t)\n",
    "\n",
    "#plot\n",
    "plt.figure(figsize=[8,6])\n",
    "plot = plt.plot(t, a, 'b-')\n",
    "plt.plot(idade, 1.0, 's')\n",
    "plt.annotate('idade atual = 13.46 Gyr', xy=(10, 1.02), fontsize=13, color='darkgrey') \n",
    "plt.xlabel('$t$ (Gyr)', fontsize=15)\n",
    "plt.ylabel('$a(t)$', fontsize=15)\n",
    "plt.xlim(x1, x2)\n",
    "#plt.title('Universo $\\Lambda$ CDM', fontsize=15)\n",
    "plt.grid()\n",
    "plt.tight_layout()\n",
    "plt.savefig('3bi.png')"
   ]
  },
  {
   "cell_type": "markdown",
   "id": "f89ecec4-bc46-41dd-9b6f-5a380ae03ed3",
   "metadata": {},
   "source": [
    "ii)"
   ]
  },
  {
   "cell_type": "code",
   "execution_count": 34,
   "id": "b0a9110b-448c-42a7-80d2-541ab0c1c8a2",
   "metadata": {},
   "outputs": [
    {
     "name": "stdout",
     "output_type": "stream",
     "text": [
      "A idade do universo Einstein-de Sitter é 9.31 Gyr\n"
     ]
    }
   ],
   "source": [
    "#idade atual\n",
    "def integrando(a):\n",
    "    omega_m0 = 1.0\n",
    "    omega_lambda0 = 0.0\n",
    "    Ea = ((omega_r0/a**2)+(omega_m0/a)+((1-omega_m0-omega_lambda0))+omega_lambda0*a**2)**0.5\n",
    "    return (1/((1/tH0)*Ea))\n",
    "a = sy.Symbol('a')\n",
    "idade = sy.integrate(integrando(a), (a, 0, 1)).evalf()\n",
    "idade = round(idade,2)\n",
    "print(f'A idade do universo Einstein-de Sitter é {idade} Gyr')"
   ]
  },
  {
   "cell_type": "code",
   "execution_count": 35,
   "id": "c7250bec-50b1-46b8-9d96-9d494229c682",
   "metadata": {},
   "outputs": [
    {
     "data": {
      "image/png": "[encoded data removed]",
      "text/plain": [
       "<Figure size 576x432 with 1 Axes>"
      ]
     },
     "metadata": {
      "needs_background": "light"
     },
     "output_type": "display_data"
    }
   ],
   "source": [
    "#lado direito da igualdade\n",
    "def dadt(a, t):\n",
    "#Einstein-de Sitter\n",
    "    omega_m0 = 1.0\n",
    "    omega_lambda0 = 0.0\n",
    "    Ea = np.sqrt((omega_r0/a**2)+(omega_m0/a)+((1-omega_m0-omega_lambda0))+omega_lambda0*a**2)\n",
    "    return ((1/tH0)*Ea)\n",
    "\n",
    "#condições inicial\n",
    "a0 = [1e-12] #0\n",
    "#eixo x\n",
    "x1 = 0\n",
    "x2 = 14\n",
    "\n",
    "t = np.arange(x1, x2, 0.01)\n",
    "\n",
    "#solução numérica\n",
    "a = odeint(dadt, a0, t)\n",
    "\n",
    "#plot\n",
    "plt.figure(figsize=[8,6])\n",
    "plt.plot(t, a, 'b-')\n",
    "plt.plot(idade, 1.0, 's')\n",
    "plt.annotate('idade atual = 9.31 Gyr', xy=(idade, 0.9), fontsize=13, color='darkgrey') \n",
    "plt.xlabel('$t$ (Gyr)', fontsize=15)\n",
    "plt.ylabel('$a(t)$', fontsize=15)\n",
    "#plt.title('Universo Einstein-de Sitter', fontsize=15)\n",
    "plt.xlim(x1, x2)\n",
    "plt.grid()\n",
    "plt.tight_layout()\n",
    "plt.savefig('3bii.png')"
   ]
  },
  {
   "cell_type": "markdown",
   "id": "b6f63864-d0fc-406e-a2a3-a6e98f29a37e",
   "metadata": {},
   "source": [
    "### Ex 4 - Expansion law in a flat universe"
   ]
  },
  {
   "cell_type": "markdown",
   "id": "94691d8a-19c2-4432-bf54-3fa67b890e09",
   "metadata": {},
   "source": [
    "a), b) e c) Resolução na lista."
   ]
  },
  {
   "cell_type": "markdown",
   "id": "400c3c70-36bb-4428-b07a-9f0689e46835",
   "metadata": {},
   "source": [
    "d)"
   ]
  },
  {
   "cell_type": "code",
   "execution_count": 42,
   "id": "24bc5e80-4c24-4eb4-beaa-a59c864f1214",
   "metadata": {},
   "outputs": [
    {
     "data": {
      "image/png": "[encoded data removed]",
      "text/plain": [
       "<Figure size 576x432 with 1 Axes>"
      ]
     },
     "metadata": {
      "needs_background": "light"
     },
     "output_type": "display_data"
    }
   ],
   "source": [
    "x1 = 0\n",
    "x2 = 14\n",
    "\n",
    "t = np.arange(x1, x2, 0.1)\n",
    "\n",
    "a_pl = (omega_m0/omega_lambda0)**(1/2)*np.sinh((3*(1/tH0)*np.sqrt(omega_lambda0)*t)/2)\n",
    "\n",
    "plt.figure(figsize=[8,6])\n",
    "plt.plot(t, a_pl, 'r-', label='universo plano')\n",
    "\n",
    "#________#\n",
    "\n",
    "def dadt(a, t):\n",
    "    Ea = np.sqrt((omega_r0/a**2)+(omega_m0/a)+((1-omega_m0-omega_lambda0))+omega_lambda0*a**2)\n",
    "    return ((1/tH0)*Ea)\n",
    "\n",
    "a0 = [1e-12] #0\n",
    "\n",
    "a = odeint(dadt, a0, t)\n",
    "\n",
    "plot = plt.plot(t, a, 'b--', label='universo $\\Lambda$CDM')\n",
    "\n",
    "plt.ylabel('$a(t)$', fontsize=15)\n",
    "plt.xlabel('$t$ (Gyr)', fontsize=15)\n",
    "plt.xlim(x1, x2)\n",
    "\n",
    "plt.grid()\n",
    "plt.legend()\n",
    "plt.tight_layout()\n",
    "plt.savefig('4d.png')"
   ]
  },
  {
   "cell_type": "markdown",
   "id": "570a7359-7022-4f0f-b409-6d6d578fbdee",
   "metadata": {},
   "source": [
    "### Ex 5 - Idade e lookback time"
   ]
  },
  {
   "cell_type": "markdown",
   "id": "da07045d-bfa0-43b9-b98f-d269f2984f70",
   "metadata": {},
   "source": [
    "a)"
   ]
  },
  {
   "cell_type": "code",
   "execution_count": 7,
   "id": "ed5c61a7-25e5-49e3-a759-779662951d2c",
   "metadata": {},
   "outputs": [],
   "source": [
    "def time(z):\n",
    "    E = np.sqrt((omega_r0)*(1+z)**4 + (omega_m0)*(1+z)**3 + (omega_k)*(1+z)**2 + omega_lambda0)\n",
    "    return 1/((1+z)*E)"
   ]
  },
  {
   "cell_type": "code",
   "execution_count": 8,
   "id": "00ac4587-b742-44d2-af6d-800b96287e10",
   "metadata": {},
   "outputs": [
    {
     "name": "stdout",
     "output_type": "stream",
     "text": [
      "13.462825260487774\n"
     ]
    }
   ],
   "source": [
    "n, n_err = quad(time, 0, np.inf)\n",
    "\n",
    "t0 = tH0*n #Gyr\n",
    "\n",
    "print(t0)"
   ]
  },
  {
   "cell_type": "markdown",
   "id": "36088196-1928-4ab7-8640-279b22f2b469",
   "metadata": {},
   "source": [
    "b) e c)\n"
   ]
  },
  {
   "cell_type": "code",
   "execution_count": 60,
   "id": "18e423e4-ebfe-4b29-8798-e5248eb7b6ce",
   "metadata": {},
   "outputs": [
    {
     "name": "stdout",
     "output_type": "stream",
     "text": [
      "metade da idade atual: t = 6.685087849486481, z = 0.79\n"
     ]
    },
    {
     "data": {
      "image/png": "[encoded data removed]",
      "text/plain": [
       "<Figure size 576x432 with 1 Axes>"
      ]
     },
     "metadata": {
      "needs_background": "light"
     },
     "output_type": "display_data"
    }
   ],
   "source": [
    "zs = np.arange(0, 15, 0.01)\n",
    "\n",
    "for z in zs:\n",
    "\n",
    "    n, n_err = quad(time, z, np.inf)\n",
    "    n2, n_err2 = quad(time, 0.0, z)\n",
    "    t = tH0*n\n",
    "    t2 = tH0*n2\n",
    "    \n",
    "    #z da meia idade\n",
    "    if n<=n2:\n",
    "        print(f'metade da idade atual: t = {tH0*n}, z = {z}')\n",
    "        redshift = z\n",
    "        meia_idade = tH0*n\n",
    "        break\n",
    "\n",
    "plt.figure(figsize=[8,6])\n",
    "plt.plot(zs, ts1, 'r-', label='idade')\n",
    "plt.plot(zs, ts2, 'b-', label='lookback time')\n",
    "plt.plot(redshift, meia_idade, 'ko')\n",
    "plt.annotate(f'z da meia idade = {z}', xy=(redshift+0.5, meia_idade), fontsize=13, color='darkgrey') \n",
    "\n",
    "#plt.title('Idade e lookback time', fontsize=15)\n",
    "plt.xlabel('$z$', fontsize=15)\n",
    "plt.ylabel('$t$ (Gyr)', fontsize=15)\n",
    "plt.legend(loc='upper left', fontsize=14)\n",
    "plt.grid()\n",
    "plt.tight_layout()\n",
    "plt.savefig('5.png')"
   ]
  },
  {
   "cell_type": "markdown",
   "id": "49ffa373-3842-4145-a70a-64172c723576",
   "metadata": {},
   "source": [
    "c)"
   ]
  },
  {
   "cell_type": "code",
   "execution_count": 22,
   "id": "4c5c7a09-dc5f-4eb1-aebc-88bfd12820ba",
   "metadata": {},
   "outputs": [
    {
     "name": "stdout",
     "output_type": "stream",
     "text": [
      "5.040772522607013\n"
     ]
    }
   ],
   "source": [
    "n, n_err = quad(time, 0, 0.5)\n",
    "\n",
    "t = tH0*n #Gyr\n",
    "\n",
    "print(t)"
   ]
  },
  {
   "cell_type": "markdown",
   "id": "6fc111a8-3782-4fdb-bc66-bce62c7cc4a2",
   "metadata": {},
   "source": [
    "d)"
   ]
  },
  {
   "cell_type": "code",
   "execution_count": 79,
   "id": "3f6c03b7-3b4c-43da-8df7-2e7d636b13d3",
   "metadata": {},
   "outputs": [],
   "source": [
    "def time_plano(z):\n",
    "    x = (tH0/np.sqrt(omega_lambda0))*((2/3)*np.log(((np.sqrt(omega_lambda0*(1+z)**-3))+(np.sqrt(omega_m0+omega_lambda0*(1+z)**-3)))/(np.sqrt(omega_m0))))\n",
    "    return x"
   ]
  },
  {
   "cell_type": "code",
   "execution_count": 80,
   "id": "fd63416b-254b-447f-b3ff-de7f57d37372",
   "metadata": {},
   "outputs": [
    {
     "data": {
      "image/png": "[encoded data removed]",
      "text/plain": [
       "<Figure size 576x432 with 1 Axes>"
      ]
     },
     "metadata": {
      "needs_background": "light"
     },
     "output_type": "display_data"
    }
   ],
   "source": [
    "zs = np.arange(0, 15, 0.1)\n",
    "\n",
    "for z in zs:\n",
    "\n",
    "    n, n_err = quad(time_plano, z, np.inf)\n",
    "    n2, n_err2 = quad(time_plano, 0.0, z)\n",
    "    t = tH0*n\n",
    "    ts1.append(t)\n",
    "    t2 = tH0*n2\n",
    "    ts2.append(t2)\n",
    "    if t==t2:\n",
    "        print(z)\n",
    "\n",
    "plt.figure(figsize=[8,6])\n",
    "plt.plot(zs, ts1, 'r--', label='idade')\n",
    "plt.plot(zs, ts2, 'b--', label='lookback time')\n",
    "\n",
    "plt.xlabel('$z$', fontsize=15)\n",
    "plt.ylabel('$t$ (Gyr)', fontsize=15)\n",
    "plt.legend(loc='upper right', fontsize=15)\n",
    "plt.grid()\n",
    "plt.tight_layout()\n",
    "plt.savefig('5d.png')"
   ]
  },
  {
   "cell_type": "markdown",
   "id": "94a8c4fe-15c0-4396-9db8-cd9fd6542f16",
   "metadata": {},
   "source": [
    "### Ex 6 - Velocidade e redshift"
   ]
  },
  {
   "cell_type": "markdown",
   "id": "3b76a0ad-1c2e-45f1-9328-6175c01574cd",
   "metadata": {},
   "source": [
    "a)"
   ]
  },
  {
   "cell_type": "code",
   "execution_count": 106,
   "id": "bd47ad0c-c746-4ccd-8faa-d305748eb87d",
   "metadata": {},
   "outputs": [
    {
     "data": {
      "image/png": "[encoded data removed]",
      "text/plain": [
       "<Figure size 576x432 with 1 Axes>"
      ]
     },
     "metadata": {
      "needs_background": "light"
     },
     "output_type": "display_data"
    }
   ],
   "source": [
    "zs = np.arange(0, 10e3, 0.1)\n",
    "\n",
    "x1 = 0\n",
    "x2 = 2\n",
    "y1 = 0\n",
    "y2 = 2\n",
    "\n",
    "aprox_linear = zs\n",
    "\n",
    "ef_doppler = (((1+zs)**2-1)/((1+zs)**2+1))\n",
    "\n",
    "ts = []\n",
    "\n",
    "def vel_cosmo(z):\n",
    "    E = np.sqrt((omega_r0)*(1+z)**4 + (omega_m0)*(1+z)**3 + (omega_k)*(1+z)**2 + omega_lambda0)\n",
    "    return 1/(E)\n",
    "\n",
    "v_cosmo = np.array([])\n",
    "for i in range(len(zs)):\n",
    "    v_cosmo = np.append(v_cosmo, quad(vel_cosmo, 0, zs[i])[0])\n",
    "\n",
    "plt.figure(figsize=[8,6])\n",
    "plt.plot(zs, aprox_linear, 'r-', label='aproximação linear')\n",
    "plt.plot(zs, ef_doppler, 'g-', label='efeito Doppler relativístico')\n",
    "plt.plot(zs, v_cosmo, 'b-', label='velocidade cosmológica')\n",
    "\n",
    "plt.xlabel('z', fontsize=15)\n",
    "plt.ylabel('v/c', fontsize=15)\n",
    "plt.ylim(y1,y2)\n",
    "plt.xlim(x1, x2)\n",
    "plt.legend(loc='upper left', fontsize=15)\n",
    "plt.tight_layout()\n",
    "plt.savefig('6.png')"
   ]
  },
  {
   "cell_type": "markdown",
   "id": "3444ddce-9e6e-4bf2-b753-0e764fc92b2a",
   "metadata": {},
   "source": [
    "b)"
   ]
  },
  {
   "cell_type": "code",
   "execution_count": 107,
   "id": "e28ea06b-9b3a-4599-b312-7e3ba1e19330",
   "metadata": {},
   "outputs": [
    {
     "name": "stderr",
     "output_type": "stream",
     "text": [
      "/home/user/.local/lib/python3.6/site-packages/ipykernel_launcher.py:2: RuntimeWarning: invalid value encountered in true_divide\n",
      "  \n",
      "/home/user/.local/lib/python3.6/site-packages/ipykernel_launcher.py:3: RuntimeWarning: invalid value encountered in true_divide\n",
      "  This is separate from the ipykernel package so we can avoid doing imports until\n"
     ]
    }
   ],
   "source": [
    "# erro máximo: 10%\n",
    "cosmo_linear = zs[np.where(np.abs(v_cosmo - aprox_linear)/v_cosmo < 0.1)[0]].max()\n",
    "cosmo_doppler = zs[np.where(np.abs(v_cosmo - ef_doppler)/v_cosmo < 0.1)[0]].max()"
   ]
  },
  {
   "cell_type": "markdown",
   "id": "cf731d14-2078-4760-a16e-501f1437eba2",
   "metadata": {},
   "source": [
    "### Ex 7 - Distâncias cosmológicas"
   ]
  },
  {
   "cell_type": "code",
   "execution_count": 91,
   "id": "eb877dfc-aaf4-4526-bb8a-53bef2d57c92",
   "metadata": {},
   "outputs": [],
   "source": [
    "redshift = 3"
   ]
  },
  {
   "cell_type": "markdown",
   "id": "a19f39a7-f3a2-4871-b583-720cd2165695",
   "metadata": {},
   "source": [
    "a)"
   ]
  },
  {
   "cell_type": "code",
   "execution_count": 92,
   "id": "33381b18-c675-406f-b23b-37376e3f3eb9",
   "metadata": {},
   "outputs": [
    {
     "name": "stdout",
     "output_type": "stream",
     "text": [
      "0.25\n"
     ]
    }
   ],
   "source": [
    "a = 1/(1+redshift)\n",
    "print(a)"
   ]
  },
  {
   "cell_type": "markdown",
   "id": "4dd2b7d7-032b-4180-90a4-749f690952ab",
   "metadata": {},
   "source": [
    "b)"
   ]
  },
  {
   "cell_type": "code",
   "execution_count": 93,
   "id": "527075f6-1d1a-43f0-a79f-f6cbabb2bf4b",
   "metadata": {},
   "outputs": [
    {
     "name": "stdout",
     "output_type": "stream",
     "text": [
      "2.1092931343229195\n"
     ]
    }
   ],
   "source": [
    "n, n_err = quad(time, redshift, np.inf)\n",
    "\n",
    "t3 = tH0*n\n",
    "\n",
    "print(t3)"
   ]
  },
  {
   "cell_type": "markdown",
   "id": "1e00429d-fab0-44d3-8207-53b7acfb3eba",
   "metadata": {},
   "source": [
    "c)"
   ]
  },
  {
   "cell_type": "code",
   "execution_count": 94,
   "id": "5e42fb1f-87ff-459e-bc6a-c9abdd96a45e",
   "metadata": {},
   "outputs": [
    {
     "name": "stdout",
     "output_type": "stream",
     "text": [
      "11.353532126164854\n"
     ]
    }
   ],
   "source": [
    "n, n_err = quad(time, 0, redshift)\n",
    "\n",
    "t3 = tH0*n\n",
    "\n",
    "print(t3)"
   ]
  },
  {
   "cell_type": "markdown",
   "id": "51f2e3ed-a5c2-43eb-b1b9-ef574ea2a5d5",
   "metadata": {},
   "source": [
    "d)"
   ]
  },
  {
   "cell_type": "code",
   "execution_count": 95,
   "id": "b61cbed7-13e8-4b8f-ad4e-34fcae572f35",
   "metadata": {},
   "outputs": [
    {
     "name": "stdout",
     "output_type": "stream",
     "text": [
      "445100.04141355975\n"
     ]
    }
   ],
   "source": [
    "n, n_err = quad(vel_cosmo, 0, redshift)\n",
    "\n",
    "v3 = c*n #m/s\n",
    "v3 = v3/1000 #km/s\n",
    "\n",
    "print(v3)"
   ]
  },
  {
   "cell_type": "markdown",
   "id": "f7b81c3b-91a1-4ce7-a513-af356bf4fb78",
   "metadata": {},
   "source": [
    "e)\n"
   ]
  },
  {
   "cell_type": "code",
   "execution_count": 96,
   "id": "cbc86bf4-18ef-4c0a-ae44-d9756d164eb6",
   "metadata": {},
   "outputs": [
    {
     "name": "stdout",
     "output_type": "stream",
     "text": [
      "6358.57202019371\n"
     ]
    }
   ],
   "source": [
    "def D_co(z):\n",
    "    E = np.sqrt((omega_r0)*(1+z)**4 + (omega_m0)*(1+z)**3 + (omega_k)*(1+z)**2 + omega_lambda0)\n",
    "    return 1/(E)\n",
    "\n",
    "n, n_err = quad(D_co, 0, redshift)\n",
    "\n",
    "Dco = (c/1000)/H0*n #Mpc\n",
    "\n",
    "print(Dco)"
   ]
  },
  {
   "cell_type": "markdown",
   "id": "0250f429-5fd8-4160-810b-9d29e72133ba",
   "metadata": {},
   "source": [
    "f)"
   ]
  },
  {
   "cell_type": "code",
   "execution_count": 97,
   "id": "ce04af3a-d2f0-4757-bb9c-751403ef325a",
   "metadata": {},
   "outputs": [
    {
     "name": "stdout",
     "output_type": "stream",
     "text": [
      "25434.28808077484\n"
     ]
    }
   ],
   "source": [
    "Dl = Dco*(1+redshift) #Mpc\n",
    "print(Dl)"
   ]
  },
  {
   "cell_type": "markdown",
   "id": "a0820f46-8b9f-4f5a-b43a-8dcb9a8a9d71",
   "metadata": {},
   "source": [
    "g)"
   ]
  },
  {
   "cell_type": "code",
   "execution_count": 98,
   "id": "8855c3a2-e1fa-4a72-9b72-e9bc8220bfad",
   "metadata": {},
   "outputs": [
    {
     "name": "stdout",
     "output_type": "stream",
     "text": [
      "1589.6430050484275\n"
     ]
    }
   ],
   "source": [
    "Da = Dco/(1+redshift) #Mpc\n",
    "print(Da)"
   ]
  },
  {
   "cell_type": "markdown",
   "id": "c2adb066-7d62-49aa-9d33-bb66f71cd44b",
   "metadata": {},
   "source": [
    "h)"
   ]
  },
  {
   "cell_type": "code",
   "execution_count": 99,
   "id": "508a8001-1787-4aa2-85e6-de846d6dc5ce",
   "metadata": {},
   "outputs": [],
   "source": [
    "M = -19"
   ]
  },
  {
   "cell_type": "code",
   "execution_count": 100,
   "id": "23df5fb2-8099-48ce-9b5b-76044818cfd0",
   "metadata": {},
   "outputs": [
    {
     "name": "stdout",
     "output_type": "stream",
     "text": [
      "28.02709793002203\n"
     ]
    }
   ],
   "source": [
    "Dl = Dl*(1e6) #pc\n",
    "m = M + 5*np.log10(Dl) - 5\n",
    "print(m)"
   ]
  },
  {
   "cell_type": "markdown",
   "id": "28b79718-47bd-4c2c-9f66-c5d22b82c48f",
   "metadata": {},
   "source": [
    "i)"
   ]
  },
  {
   "cell_type": "code",
   "execution_count": 101,
   "id": "c2376120-9dde-4b95-b432-79c92b16a0d8",
   "metadata": {},
   "outputs": [],
   "source": [
    "R = 30 #kpc\n",
    "R = R/1000 #Mpc"
   ]
  },
  {
   "cell_type": "code",
   "execution_count": 102,
   "id": "39ef10cc-9086-4494-b8eb-623518231bf8",
   "metadata": {},
   "outputs": [
    {
     "name": "stdout",
     "output_type": "stream",
     "text": [
      "1.8872161802823186e-05\n",
      "0.06487771329538629\n"
     ]
    }
   ],
   "source": [
    "theta = R/Da\n",
    "print(theta)\n",
    "theta2 = theta*((60*180)/np.pi)\n",
    "print(theta2)"
   ]
  }
 ],
 "metadata": {
  "kernelspec": {
   "display_name": "Python 3",
   "language": "python",
   "name": "python3"
  },
  "language_info": {
   "codemirror_mode": {
    "name": "ipython",
    "version": 3
   },
   "file_extension": ".py",
   "mimetype": "text/x-python",
   "name": "python",
   "nbconvert_exporter": "python",
   "pygments_lexer": "ipython3",
   "version": "3.6.9"
  }
 },
 "nbformat": 4,
 "nbformat_minor": 5
}
