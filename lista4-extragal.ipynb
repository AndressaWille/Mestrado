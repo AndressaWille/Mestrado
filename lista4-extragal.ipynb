{
 "cells": [
  {
   "cell_type": "markdown",
   "id": "cef1c880-3e91-42ba-a6c9-d4d3c86fa7a7",
   "metadata": {},
   "source": [
    "### Lista 4 - Extragaláctica\n",
    "\n",
    "Andressa"
   ]
  },
  {
   "cell_type": "code",
   "execution_count": 1,
   "id": "2cbb832f-8b4f-4d08-986f-ac05f57c0862",
   "metadata": {},
   "outputs": [],
   "source": [
    "import numpy as np\n",
    "import matplotlib.pyplot as plt\n",
    "from astropy.table import Table\n",
    "from astropy import units as u\n",
    "from astropy.coordinates import SkyCoord\n",
    "from scipy.optimize import curve_fit\n",
    "from scipy.integrate import quad, odeint\n",
    "from sympy import *\n",
    "\n",
    "\n",
    "plt.rcParams['text.usetex'] = True\n",
    "plt.rcParams['font.size'] = 15"
   ]
  },
  {
   "cell_type": "markdown",
   "id": "0f17ab74-4987-46d1-ac2c-e1ce6894557c",
   "metadata": {},
   "source": [
    "Exercício 8"
   ]
  },
  {
   "cell_type": "code",
   "execution_count": 2,
   "id": "ad5b0c1b-d773-4fe1-9516-8b9288a698ec",
   "metadata": {},
   "outputs": [
    {
     "data": {
      "text/plain": [
       "<SkyCoord (ICRS): (ra, dec) in deg\n",
       "    (194.95291667, 27.98055556)>"
      ]
     },
     "execution_count": 2,
     "metadata": {},
     "output_type": "execute_result"
    }
   ],
   "source": [
    "#coordenadas Coma Cluster\n",
    "c = SkyCoord('12h59m48.7s', '+27d58m50s', frame='icrs')\n",
    "c  "
   ]
  },
  {
   "cell_type": "markdown",
   "id": "e6af0162-c6fc-44ae-931d-2fa9c3b7ef88",
   "metadata": {},
   "source": [
    "Query:\n",
    "```sql\n",
    "select p.objid, p.ra, p.dec, p.g, s.z as redshift\n",
    "from galaxy p, specobj s, dbo.fgetNearByObjEq(194.95291667,27.98055556,180) n\n",
    "where p.objid=s.bestobjid and p.objid=n.objid and s.bestobjid=n.objid\n",
    "```"
   ]
  },
  {
   "cell_type": "code",
   "execution_count": 3,
   "id": "16e488ba-5722-4e1b-912b-50d71adee790",
   "metadata": {},
   "outputs": [
    {
     "name": "stdout",
     "output_type": "stream",
     "text": [
      "['objid', 'ra', 'dec', 'g', 'redshift']\n"
     ]
    }
   ],
   "source": [
    "data = Table.read('coma_data.fits', format='fits')\n",
    "print(data.colnames)"
   ]
  },
  {
   "cell_type": "code",
   "execution_count": 4,
   "id": "761d7eb3-fdea-4988-9de6-e2aca66d57a2",
   "metadata": {},
   "outputs": [
    {
     "data": {
      "text/plain": [
       "6697"
      ]
     },
     "execution_count": 4,
     "metadata": {},
     "output_type": "execute_result"
    }
   ],
   "source": [
    "len(data)"
   ]
  },
  {
   "cell_type": "code",
   "execution_count": 5,
   "id": "f6b14474-b0f0-4528-ab81-6b2818833680",
   "metadata": {},
   "outputs": [
    {
     "data": {
      "image/png": "[encoded data removed]",
      "text/plain": [
       "<Figure size 432x432 with 1 Axes>"
      ]
     },
     "metadata": {
      "needs_background": "light"
     },
     "output_type": "display_data"
    },
    {
     "data": {
      "image/png": "[encoded data removed]",
      "text/plain": [
       "<Figure size 432x432 with 1 Axes>"
      ]
     },
     "metadata": {
      "needs_background": "light"
     },
     "output_type": "display_data"
    }
   ],
   "source": [
    "#redshift Coma Cluster\n",
    "z = np.array(data['redshift'])\n",
    "\n",
    "plt.figure(figsize=[6,6])\n",
    "bins = np.linspace(0.0, 1.0, 51)\n",
    "plt.hist(z, bins=bins, ec=\"black\", fc=\"mediumseagreen\")\n",
    "plt.xlabel(\"z\")\n",
    "plt.xlim(0,1)\n",
    "plt.grid(True)\n",
    "plt.tight_layout()\n",
    "\n",
    "\n",
    "mask_z = (data['redshift'] > 0.02) & (data['redshift'] < 0.03)\n",
    "z = np.array(data['redshift'][mask_z])\n",
    "\n",
    "plt.figure(figsize=[6,6])\n",
    "bins = np.linspace(0.0, 1.0, 51)\n",
    "plt.hist(z, bins=bins, ec=\"black\", fc=\"mediumseagreen\")\n",
    "plt.xlabel(\"z\")\n",
    "plt.xlim(0,1)\n",
    "plt.grid(True)\n",
    "plt.tight_layout()"
   ]
  },
  {
   "cell_type": "code",
   "execution_count": 6,
   "id": "5cee6466-b417-4329-93db-b30606bb0c59",
   "metadata": {},
   "outputs": [
    {
     "data": {
      "image/png": "[encoded data removed]",
      "text/plain": [
       "<Figure size 432x432 with 1 Axes>"
      ]
     },
     "metadata": {
      "needs_background": "light"
     },
     "output_type": "display_data"
    }
   ],
   "source": [
    "mask_z = (data['redshift'] > 0.02) & (data['redshift'] < 0.03)\n",
    "\n",
    "z = np.array(data['redshift'][mask_z])\n",
    "\n",
    "plt.figure(figsize=[6,6])\n",
    "plt.hist(z, bins='auto', ec=\"black\", fc=\"mediumseagreen\")\n",
    "plt.xlabel(\"z\")\n",
    "plt.xlim(0.02,0.03)\n",
    "plt.grid(True)\n",
    "plt.tight_layout()"
   ]
  },
  {
   "cell_type": "code",
   "execution_count": 7,
   "id": "b3a4185d-b9f1-466f-839a-d4ab64e1d342",
   "metadata": {},
   "outputs": [
    {
     "data": {
      "text/html": [
       "<i>Table length=888</i>\n",
       "<table id=\"table140716461837784\" class=\"table-striped table-bordered table-condensed\">\n",
       "<thead><tr><th>objid</th><th>ra</th><th>dec</th><th>g</th><th>redshift</th></tr></thead>\n",
       "<thead><tr><th>int64</th><th>float64</th><th>float64</th><th>float32</th><th>float32</th></tr></thead>\n",
       "<tr><td>1237667444048724058</td><td>195.02367244819052</td><td>27.92646372537734</td><td>18.307228</td><td>0.026532665</td></tr>\n",
       "<tr><td>1237667323260239967</td><td>193.26685314985966</td><td>27.464524961737276</td><td>17.739439</td><td>0.022880102</td></tr>\n",
       "<tr><td>1237665442590294043</td><td>196.90672386670298</td><td>29.92677209213581</td><td>17.613495</td><td>0.02536382</td></tr>\n",
       "<tr><td>1237667444048592948</td><td>194.7330846129095</td><td>27.83337239524289</td><td>14.839222</td><td>0.025102785</td></tr>\n",
       "<tr><td>1237667324334374924</td><td>194.37496696160014</td><td>28.188071822202936</td><td>14.74595</td><td>0.023128286</td></tr>\n",
       "<tr><td>1237665443126247518</td><td>194.57746265466045</td><td>30.538019984943105</td><td>16.84223</td><td>0.02522906</td></tr>\n",
       "<tr><td>1237667444585201702</td><td>194.14663081960066</td><td>28.275457472547043</td><td>15.603621</td><td>0.024334192</td></tr>\n",
       "<tr><td>1237667442974654524</td><td>194.18132373368903</td><td>27.17879518844555</td><td>13.734673</td><td>0.025310293</td></tr>\n",
       "<tr><td>1237667255092969508</td><td>194.11478641037587</td><td>30.43328800468621</td><td>17.668453</td><td>0.025309322</td></tr>\n",
       "<tr><td>1237667444585463852</td><td>194.75754480677685</td><td>28.22535627928713</td><td>14.838391</td><td>0.026753558</td></tr>\n",
       "<tr><td>...</td><td>...</td><td>...</td><td>...</td><td>...</td></tr>\n",
       "<tr><td>1237665427552927881</td><td>194.87547734347902</td><td>28.700128440847582</td><td>17.923172</td><td>0.023682466</td></tr>\n",
       "<tr><td>1237667324334964917</td><td>195.88014036432367</td><td>28.092305422456253</td><td>16.550957</td><td>0.021117032</td></tr>\n",
       "<tr><td>1237667443511918698</td><td>195.2080096140303</td><td>27.40578184648611</td><td>14.634101</td><td>0.021982247</td></tr>\n",
       "<tr><td>1237667324334702708</td><td>195.21315046144917</td><td>28.04713891316879</td><td>16.540064</td><td>0.0211638</td></tr>\n",
       "<tr><td>1237667912744108111</td><td>193.51242386993022</td><td>25.76075517106471</td><td>17.968393</td><td>0.024334187</td></tr>\n",
       "<tr><td>1237667322722844715</td><td>191.92486360687997</td><td>26.9816129991396</td><td>14.239343</td><td>0.023854904</td></tr>\n",
       "<tr><td>1237667323260895278</td><td>195.02616483420258</td><td>27.300713066153346</td><td>15.841587</td><td>0.02625441</td></tr>\n",
       "<tr><td>1237665440978370643</td><td>193.45498279658378</td><td>28.942707380543684</td><td>17.032644</td><td>0.023666687</td></tr>\n",
       "<tr><td>1237667323797897421</td><td>195.41894676346516</td><td>27.548932188394204</td><td>18.330782</td><td>0.02167638</td></tr>\n",
       "<tr><td>1237665427553124587</td><td>195.44926239079993</td><td>28.66020969470142</td><td>17.940134</td><td>0.02872291</td></tr>\n",
       "</table>"
      ],
      "text/plain": [
       "<Table length=888>\n",
       "       objid                ra                dec             g       redshift \n",
       "       int64             float64            float64        float32    float32  \n",
       "------------------- ------------------ ------------------ --------- -----------\n",
       "1237667444048724058 195.02367244819052  27.92646372537734 18.307228 0.026532665\n",
       "1237667323260239967 193.26685314985966 27.464524961737276 17.739439 0.022880102\n",
       "1237665442590294043 196.90672386670298  29.92677209213581 17.613495  0.02536382\n",
       "1237667444048592948  194.7330846129095  27.83337239524289 14.839222 0.025102785\n",
       "1237667324334374924 194.37496696160014 28.188071822202936  14.74595 0.023128286\n",
       "1237665443126247518 194.57746265466045 30.538019984943105  16.84223  0.02522906\n",
       "1237667444585201702 194.14663081960066 28.275457472547043 15.603621 0.024334192\n",
       "1237667442974654524 194.18132373368903  27.17879518844555 13.734673 0.025310293\n",
       "1237667255092969508 194.11478641037587  30.43328800468621 17.668453 0.025309322\n",
       "1237667444585463852 194.75754480677685  28.22535627928713 14.838391 0.026753558\n",
       "                ...                ...                ...       ...         ...\n",
       "1237665427552927881 194.87547734347902 28.700128440847582 17.923172 0.023682466\n",
       "1237667324334964917 195.88014036432367 28.092305422456253 16.550957 0.021117032\n",
       "1237667443511918698  195.2080096140303  27.40578184648611 14.634101 0.021982247\n",
       "1237667324334702708 195.21315046144917  28.04713891316879 16.540064   0.0211638\n",
       "1237667912744108111 193.51242386993022  25.76075517106471 17.968393 0.024334187\n",
       "1237667322722844715 191.92486360687997   26.9816129991396 14.239343 0.023854904\n",
       "1237667323260895278 195.02616483420258 27.300713066153346 15.841587  0.02625441\n",
       "1237665440978370643 193.45498279658378 28.942707380543684 17.032644 0.023666687\n",
       "1237667323797897421 195.41894676346516 27.548932188394204 18.330782  0.02167638\n",
       "1237665427553124587 195.44926239079993  28.66020969470142 17.940134  0.02872291"
      ]
     },
     "execution_count": 7,
     "metadata": {},
     "output_type": "execute_result"
    }
   ],
   "source": [
    "coma = data[mask_z]\n",
    "coma"
   ]
  },
  {
   "cell_type": "code",
   "execution_count": 8,
   "id": "77866d20-22ab-4db4-b012-ec5e52de02ed",
   "metadata": {},
   "outputs": [
    {
     "data": {
      "text/plain": [
       "0.023916803"
      ]
     },
     "execution_count": 8,
     "metadata": {},
     "output_type": "execute_result"
    }
   ],
   "source": [
    "z_mean = np.mean(coma['redshift'])\n",
    "z_mean"
   ]
  },
  {
   "cell_type": "code",
   "execution_count": 9,
   "id": "e2afbdfb-76ec-48a8-87d4-730249c1caae",
   "metadata": {},
   "outputs": [
    {
     "data": {
      "text/plain": [
       "102.50058557306016"
      ]
     },
     "execution_count": 9,
     "metadata": {},
     "output_type": "execute_result"
    }
   ],
   "source": [
    "#distância \n",
    "H0 = 70 #km/s/Mpc\n",
    "c = 3e5 #km/s\n",
    "d = (c/H0)*z_mean \n",
    "\n",
    "d #Mpc"
   ]
  },
  {
   "cell_type": "code",
   "execution_count": 10,
   "id": "09656b33-de22-4615-ba02-ed1e90925661",
   "metadata": {},
   "outputs": [],
   "source": [
    "#magnitudes absolutas na banda g\n",
    "d = d *1e6 #pc\n",
    "mag_ap = np.array(coma['g'])\n",
    "mag = mag_ap -5*np.log10(d) + 5\n",
    "coma['mag abs'] = mag_ap -5*np.log10(d) + 5"
   ]
  },
  {
   "cell_type": "code",
   "execution_count": 11,
   "id": "4c9c4eda-8129-4942-8ebf-c9f7373c33eb",
   "metadata": {},
   "outputs": [],
   "source": [
    "#luminosidade\n",
    "L_sol = 1 #Lsun\n",
    "mag_sol = 4.83\n",
    "L = L_sol * 10**((mag - mag_sol)/(2.5)) #Lsun\n",
    "coma['L'] = L"
   ]
  },
  {
   "cell_type": "code",
   "execution_count": 12,
   "id": "d451543b-4153-4bfa-9e41-599e7d6d575f",
   "metadata": {},
   "outputs": [
    {
     "data": {
      "text/plain": [
       "7.603097996744523e-07"
      ]
     },
     "execution_count": 12,
     "metadata": {},
     "output_type": "execute_result"
    }
   ],
   "source": [
    "#soma das luminosidades\n",
    "L_tot = sum(L)\n",
    "L_tot #Lsun"
   ]
  },
  {
   "cell_type": "code",
   "execution_count": 13,
   "id": "bd4c7a57-c601-4fac-ac08-51472cc5bd77",
   "metadata": {},
   "outputs": [
    {
     "data": {
      "text/plain": [
       "3.8015489983722617e-07"
      ]
     },
     "execution_count": 13,
     "metadata": {},
     "output_type": "execute_result"
    }
   ],
   "source": [
    "#metade da luminosidade para cálculo do raio efetivo\n",
    "L_tot_2 = L_tot/2\n",
    "L_tot_2 #Lsun"
   ]
  },
  {
   "cell_type": "code",
   "execution_count": 14,
   "id": "aa97be9a-7294-42c6-8056-7994b7fa617b",
   "metadata": {},
   "outputs": [],
   "source": [
    "ra_mean = np.mean(coma['ra'])\n",
    "dec_mean = np.mean(coma['dec'])\n",
    "\n",
    "ra_mean = np.radians(ra_mean)\n",
    "dec_mean = np.radians(dec_mean)\n",
    "\n",
    "ra = np.radians(np.array(coma['ra']))\n",
    "dec = np.radians(np.array(coma['dec']))"
   ]
  },
  {
   "cell_type": "code",
   "execution_count": 15,
   "id": "798714ae-841b-4090-9bec-d9ed3ac4f2d6",
   "metadata": {},
   "outputs": [],
   "source": [
    "#distância angular das galáxias do cluster\n",
    "cos_theta = np.sin(dec)*np.sin(dec_mean) + np.cos(dec)*np.cos(dec_mean)*np.cos(ra-ra_mean)\n",
    "theta = np.arccos(cos_theta)\n",
    "\n",
    "theta_ordem = np.sort(theta)\n",
    "coma['dist ang'] = theta_ordem"
   ]
  },
  {
   "cell_type": "code",
   "execution_count": 16,
   "id": "48c8a665-6d55-4e37-be40-871a9e75b468",
   "metadata": {},
   "outputs": [
    {
     "data": {
      "text/plain": [
       "1768068.5766029065"
      ]
     },
     "execution_count": 16,
     "metadata": {},
     "output_type": "execute_result"
    }
   ],
   "source": [
    "#raio efetivo\n",
    "L_cum = np.cumsum(coma['L'])\n",
    "\n",
    "r = [np.where(L_cum < L_tot_2)[0][-1]]\n",
    "r_eff = d * np.sin(theta_ordem)[r][0]\n",
    "\n",
    "r_eff #pc"
   ]
  },
  {
   "cell_type": "code",
   "execution_count": 17,
   "id": "90959ef8-8205-4177-ad83-eb6c1e17b52e",
   "metadata": {},
   "outputs": [],
   "source": [
    "#raio G\n",
    "r_G = r_eff * 3\n",
    "r_G #pc\n",
    "r_G = r_G/1e6 #Mpc"
   ]
  },
  {
   "cell_type": "code",
   "execution_count": 18,
   "id": "e343692e-b609-4eeb-96a4-95d0d7aaafcf",
   "metadata": {},
   "outputs": [
    {
     "data": {
      "text/plain": [
       "5.30420572980872"
      ]
     },
     "execution_count": 18,
     "metadata": {},
     "output_type": "execute_result"
    }
   ],
   "source": [
    "r_G"
   ]
  },
  {
   "cell_type": "code",
   "execution_count": 19,
   "id": "48c95bb4-f459-4df1-91d1-2d00d8e06faf",
   "metadata": {},
   "outputs": [
    {
     "data": {
      "text/plain": [
       "654.86957"
      ]
     },
     "execution_count": 19,
     "metadata": {},
     "output_type": "execute_result"
    }
   ],
   "source": [
    "#dispersão de velocidades\n",
    "c = 3e5 #km/s\n",
    "vel = np.array(coma['redshift']-z_mean)*c\n",
    "std_vel = np.std(vel)\n",
    "std_vel #km/s"
   ]
  },
  {
   "cell_type": "code",
   "execution_count": 20,
   "id": "613d595d-ecc9-40f3-a1c8-252ca6a5b254",
   "metadata": {},
   "outputs": [
    {
     "data": {
      "text/plain": [
       "2502203709039760.0"
      ]
     },
     "execution_count": 20,
     "metadata": {},
     "output_type": "execute_result"
    }
   ],
   "source": [
    "M = 1.1e15 * (std_vel/1000)**2 * r_G\n",
    "M #Msun"
   ]
  },
  {
   "cell_type": "code",
   "execution_count": null,
   "id": "9373904c-bab7-4608-bad8-6ca53594bf0b",
   "metadata": {},
   "outputs": [],
   "source": []
  },
  {
   "cell_type": "code",
   "execution_count": null,
   "id": "08769109-2922-4fe3-830d-5a7a6799ac01",
   "metadata": {},
   "outputs": [],
   "source": []
  },
  {
   "cell_type": "markdown",
   "id": "acbed1f1-787c-4de1-ae9f-eee017d251f0",
   "metadata": {},
   "source": [
    "Exercício 9"
   ]
  },
  {
   "cell_type": "markdown",
   "id": "39a3859f-e5e7-499f-b35b-8e19c654c39f",
   "metadata": {},
   "source": [
    "a)"
   ]
  },
  {
   "cell_type": "code",
   "execution_count": 21,
   "id": "4da7029e-bd5d-4d22-aaf7-b27943083e2a",
   "metadata": {},
   "outputs": [],
   "source": [
    "M_200 = 5e14 #Msun\n",
    "\n",
    "H0 = 70.0\n",
    "h = H0/100.0\n",
    "\n",
    "rho_crit = 277 * h**2 #Msun/kpc³"
   ]
  },
  {
   "cell_type": "code",
   "execution_count": 22,
   "id": "c9050eaf-915d-4183-a6bd-f73b4162b512",
   "metadata": {},
   "outputs": [
    {
     "data": {
      "text/plain": [
       "1638.2940353499241"
      ]
     },
     "execution_count": 22,
     "metadata": {},
     "output_type": "execute_result"
    }
   ],
   "source": [
    "r_200_3 = M_200/((4*np.pi/3)*200*rho_crit)\n",
    "r_200 = r_200_3**(1/3)\n",
    "r_200 #kpc"
   ]
  },
  {
   "cell_type": "code",
   "execution_count": 23,
   "id": "e8f919e4-a493-4495-941f-2c65b797dd0d",
   "metadata": {},
   "outputs": [],
   "source": [
    "z = 0"
   ]
  },
  {
   "cell_type": "code",
   "execution_count": 24,
   "id": "48148a54-4a78-44a5-93c3-199ca25e6fea",
   "metadata": {},
   "outputs": [
    {
     "data": {
      "text/plain": [
       "4.193783993076173"
      ]
     },
     "execution_count": 24,
     "metadata": {},
     "output_type": "execute_result"
    }
   ],
   "source": [
    "c = (6.71/(1+z)**0.44)*(M_200/(h**(-1)*2*10**12))**(-0.091)\n",
    "c"
   ]
  },
  {
   "cell_type": "code",
   "execution_count": 25,
   "id": "23d26f50-31b1-4fe8-8336-ce8bd2a9bedf",
   "metadata": {},
   "outputs": [
    {
     "data": {
      "text/plain": [
       "390.6481683498016"
      ]
     },
     "execution_count": 25,
     "metadata": {},
     "output_type": "execute_result"
    }
   ],
   "source": [
    "r_s = r_200/c\n",
    "r_s #kpc"
   ]
  },
  {
   "cell_type": "code",
   "execution_count": 26,
   "id": "e2c9361a-ab72-4858-a665-1123b857a939",
   "metadata": {},
   "outputs": [
    {
     "data": {
      "text/plain": [
       "794553.7539336638"
      ]
     },
     "execution_count": 26,
     "metadata": {},
     "output_type": "execute_result"
    }
   ],
   "source": [
    "rho_s = (200/3)*rho_crit*((c**3)/(np.log(1+c)-c/(1+c)))\n",
    "rho_s #Msun/kpc³"
   ]
  },
  {
   "cell_type": "code",
   "execution_count": 27,
   "id": "7c2926a0-94ad-46f4-a4cf-2e959149ab0f",
   "metadata": {},
   "outputs": [],
   "source": [
    "r = np.logspace(0,4,50)\n",
    "rho_nfw = rho_s/((r/r_s)*(1+r/r_s)**2)"
   ]
  },
  {
   "cell_type": "code",
   "execution_count": 28,
   "id": "8db97f06-2a07-4c8c-ab4a-86f34bda36ec",
   "metadata": {},
   "outputs": [
    {
     "data": {
      "image/png": "[encoded data removed]",
      "text/plain": [
       "<Figure size 576x432 with 1 Axes>"
      ]
     },
     "metadata": {
      "needs_background": "light"
     },
     "output_type": "display_data"
    }
   ],
   "source": [
    "plt.figure(figsize=[8,6])\n",
    "plt.plot(r, rho_nfw, 'b-') \n",
    "plt.xlabel('$r \\,(\\mathrm{kpc})$')\n",
    "plt.ylabel(r'$\\rho \\,(\\mathrm{{M}_\\odot/kpc^3})$')\n",
    "plt.xscale('log')\n",
    "plt.yscale('log')\n",
    "plt.grid()\n",
    "plt.tight_layout()\n",
    "#plt.savefig('9a')"
   ]
  },
  {
   "cell_type": "markdown",
   "id": "b72627ae-4194-4529-ac39-403b7c45d63a",
   "metadata": {},
   "source": [
    "b)"
   ]
  },
  {
   "cell_type": "code",
   "execution_count": 29,
   "id": "e2f35acb-4979-467d-8392-54f9eaa5a0a0",
   "metadata": {},
   "outputs": [
    {
     "data": {
      "text/plain": [
       "506.33800938013803"
      ]
     },
     "execution_count": 29,
     "metadata": {},
     "output_type": "execute_result"
    }
   ],
   "source": [
    "a_h = r_s *np.sqrt(2*(np.log(1+c)-(c/(1+c))))\n",
    "a_h #kpc"
   ]
  },
  {
   "cell_type": "code",
   "execution_count": 30,
   "id": "05547291-8527-4dc5-9172-91761238bb6d",
   "metadata": {},
   "outputs": [],
   "source": [
    "r = np.logspace(0,4,50)\n",
    "rho_nfw = rho_s/((r/r_s)*(1+r/r_s)**2)\n",
    "rho_hern = (M_200/(2*np.pi))*(a_h/(r*(r+a_h)**3))"
   ]
  },
  {
   "cell_type": "code",
   "execution_count": 31,
   "id": "19c3a8d9-cfc4-4e42-8cc7-3c57350bdb8a",
   "metadata": {},
   "outputs": [
    {
     "data": {
      "image/png": "[encoded data removed]",
      "text/plain": [
       "<Figure size 576x432 with 1 Axes>"
      ]
     },
     "metadata": {
      "needs_background": "light"
     },
     "output_type": "display_data"
    }
   ],
   "source": [
    "plt.figure(figsize=[8,6])\n",
    "plt.plot(r, rho_nfw, 'b-', label='NFW')\n",
    "plt.plot(r, rho_hern, 'g--', label='Hernquist')\n",
    "plt.xlabel('$r \\,(\\mathrm{kpc})$')\n",
    "plt.ylabel(r'$\\rho \\,(\\mathrm{{M}_\\odot/kpc^3})$')\n",
    "plt.xscale('log')\n",
    "plt.yscale('log')\n",
    "plt.grid()\n",
    "plt.legend()\n",
    "plt.tight_layout()\n",
    "#plt.savefig('9b')"
   ]
  },
  {
   "cell_type": "markdown",
   "id": "20ebbbe9-318c-4499-8e0b-f52a6f747d64",
   "metadata": {},
   "source": [
    "c)"
   ]
  },
  {
   "cell_type": "code",
   "execution_count": 32,
   "id": "c548d32e-185a-4005-95eb-679b7949eae9",
   "metadata": {},
   "outputs": [],
   "source": [
    "n_e = 5e-3 #cm⁻³\n",
    "r_c = 100 #kpc\n",
    "beta = 0.7"
   ]
  },
  {
   "cell_type": "code",
   "execution_count": 33,
   "id": "082c0b1e-a143-40c1-8c55-0dadbf5cf3ae",
   "metadata": {},
   "outputs": [],
   "source": [
    "m_H = 1.673e-27 #kg massa do próton"
   ]
  },
  {
   "cell_type": "code",
   "execution_count": 34,
   "id": "70ef754b-2d44-4fd2-9a0b-35a015a43a61",
   "metadata": {},
   "outputs": [
    {
     "data": {
      "text/plain": [
       "88235294117647.06"
      ]
     },
     "execution_count": 34,
     "metadata": {},
     "output_type": "execute_result"
    }
   ],
   "source": [
    "f_gas = 0.15\n",
    "Mg = f_gas*M_200/(1-f_gas)\n",
    "Mg #Msun"
   ]
  },
  {
   "cell_type": "code",
   "execution_count": 35,
   "id": "31972e96-6e45-439b-943e-9397e3a4aa85",
   "metadata": {},
   "outputs": [
    {
     "data": {
      "text/plain": [
       "1.1363636363636365"
      ]
     },
     "execution_count": 35,
     "metadata": {},
     "output_type": "execute_result"
    }
   ],
   "source": [
    "X = 0.76\n",
    "mu_e = 2/(X+1)\n",
    "mu_e"
   ]
  },
  {
   "cell_type": "code",
   "execution_count": 36,
   "id": "539d840e-a4fd-44d9-8137-c8784ba99b6d",
   "metadata": {},
   "outputs": [
    {
     "data": {
      "text/plain": [
       "9.505681818181821e-30"
      ]
     },
     "execution_count": 36,
     "metadata": {},
     "output_type": "execute_result"
    }
   ],
   "source": [
    "rho_0 = mu_e*n_e*m_H\n",
    "rho_0 #kg/cm³"
   ]
  },
  {
   "cell_type": "code",
   "execution_count": 37,
   "id": "a7bd2897-a9d6-4c4f-aa44-4d55261d2e23",
   "metadata": {},
   "outputs": [
    {
     "data": {
      "text/plain": [
       "140417.48229456466"
      ]
     },
     "execution_count": 37,
     "metadata": {},
     "output_type": "execute_result"
    }
   ],
   "source": [
    "#kg = 5.0279e-31 Msun\n",
    "#cm³ = 3.40368e-65 kpc³\n",
    "rho_0 = 5.0279e-31/3.40368e-65 * rho_0 #Msun/kpc³\n",
    "rho_0"
   ]
  },
  {
   "cell_type": "code",
   "execution_count": 38,
   "id": "05aef9bc-0614-438c-a6ec-911950056572",
   "metadata": {},
   "outputs": [
    {
     "data": {
      "text/plain": [
       "531.3461223308876"
      ]
     },
     "execution_count": 38,
     "metadata": {},
     "output_type": "execute_result"
    }
   ],
   "source": [
    "a_g = (3*Mg/(4*np.pi*rho_0))**(1/3)\n",
    "a_g #kpc"
   ]
  },
  {
   "cell_type": "code",
   "execution_count": 39,
   "id": "a0e50f19-8e4c-42a0-9ff6-7aabc92f972b",
   "metadata": {},
   "outputs": [],
   "source": [
    "r = np.logspace(0,4,50)\n",
    "rho_g = ((3*Mg)/(4*np.pi))*(a_g/(r+a_g)**4)\n",
    "rho_beta = (rho_0)/(1+(r/r_c)**2)**(3*beta/2)"
   ]
  },
  {
   "cell_type": "code",
   "execution_count": 40,
   "id": "7a99110c-0bde-4970-9e23-905aa1d2e3ac",
   "metadata": {},
   "outputs": [
    {
     "data": {
      "image/png": "[encoded data removed]",
      "text/plain": [
       "<Figure size 576x432 with 1 Axes>"
      ]
     },
     "metadata": {
      "needs_background": "light"
     },
     "output_type": "display_data"
    }
   ],
   "source": [
    "plt.figure(figsize=[8,6])\n",
    "plt.plot(r, rho_g, 'b-', label='Dehnen ($\\gamma = 0$)')\n",
    "plt.plot(r, rho_beta, 'g--', label=r'$\\beta$-model')\n",
    "plt.xlabel('$r \\,(\\mathrm{kpc})$')\n",
    "plt.ylabel(r'$\\rho \\,(\\mathrm{{M}_\\odot/kpc^3})$')\n",
    "plt.xscale('log')\n",
    "plt.yscale('log')\n",
    "plt.grid()\n",
    "plt.legend()\n",
    "plt.tight_layout()\n",
    "#plt.savefig('9c')"
   ]
  },
  {
   "cell_type": "markdown",
   "id": "ed3d4c81-6313-4fab-89c1-a0404f422a70",
   "metadata": {},
   "source": [
    "d)"
   ]
  },
  {
   "cell_type": "code",
   "execution_count": 41,
   "id": "40f6bcd6-e0ff-4e96-be5f-237faeed0fe2",
   "metadata": {},
   "outputs": [],
   "source": [
    "r = np.logspace(0,4,50)\n",
    "func_f_gas = (Mg * (r/(r + a_g))**3)/(Mg * (r/(r + a_g))**3 + M_200 * (r/(r + a_h))**2)"
   ]
  },
  {
   "cell_type": "code",
   "execution_count": 42,
   "id": "1e32aa12-bff4-4a5a-b6d5-898ba6f35210",
   "metadata": {},
   "outputs": [
    {
     "data": {
      "image/png": "[encoded data removed]",
      "text/plain": [
       "<Figure size 576x432 with 1 Axes>"
      ]
     },
     "metadata": {
      "needs_background": "light"
     },
     "output_type": "display_data"
    }
   ],
   "source": [
    "plt.figure(figsize=[8,6])\n",
    "plt.plot(r, func_f_gas, 'y-')\n",
    "plt.xlabel('$r \\,(\\mathrm{kpc})$')\n",
    "plt.ylabel('baryon fraction')\n",
    "plt.xscale('log')\n",
    "plt.grid()\n",
    "plt.tight_layout()\n",
    "#plt.savefig('9d')"
   ]
  },
  {
   "cell_type": "markdown",
   "id": "c6817fb1-1191-48d4-95e3-d0e3ae73ba44",
   "metadata": {},
   "source": [
    "e)"
   ]
  },
  {
   "cell_type": "code",
   "execution_count": 43,
   "id": "40046ab5-54ee-4de5-b8f2-036fb994d780",
   "metadata": {},
   "outputs": [],
   "source": [
    "r = np.linspace(0,800,50)"
   ]
  },
  {
   "cell_type": "code",
   "execution_count": 44,
   "id": "21b2911b-bb74-405b-9d39-a2626bb5ccc8",
   "metadata": {},
   "outputs": [],
   "source": [
    "k = 1.373e-23 #J/K\n",
    "G = 6.6743e-11 #m³ kg⁻¹ s⁻² ?"
   ]
  },
  {
   "cell_type": "code",
   "execution_count": 45,
   "id": "1d672414-5c27-4deb-9256-e57158e1a245",
   "metadata": {},
   "outputs": [],
   "source": [
    "#kg = 5.0279e-31 Msun\n",
    "#m³ = 3.40368e-59 kpc³\n",
    "#G = G * 3.40368e-59/5.0279e-31 #kpc³ Msun⁻¹ s⁻²"
   ]
  },
  {
   "cell_type": "code",
   "execution_count": 46,
   "id": "93b89952-b06a-41b5-98a2-4c2484ce7a9e",
   "metadata": {},
   "outputs": [],
   "source": [
    "def integral(r):\n",
    "    i = (a_g/(r+a_g)**4) * (M_200/(r+a_h)**2 + Mg/(r+a_g)**3)\n",
    "    return i"
   ]
  },
  {
   "cell_type": "code",
   "execution_count": 47,
   "id": "eaf27d2f-4f36-43b7-8272-0d4593017516",
   "metadata": {},
   "outputs": [
    {
     "data": {
      "text/plain": [
       "array([1.89916562e-03, 1.90211830e-03, 1.90568616e-03, 1.90999851e-03,\n",
       "       1.91521236e-03, 1.92151860e-03, 1.92914964e-03, 1.93838898e-03,\n",
       "       1.94958308e-03, 1.96315652e-03, 1.97963109e-03, 1.99965029e-03,\n",
       "       2.02401106e-03, 2.05370506e-03, 2.08997325e-03, 2.13437866e-03,\n",
       "       2.18890473e-03, 2.25608989e-03, 2.33921436e-03, 2.44256295e-03,\n",
       "       2.57180039e-03, 2.73451543e-03, 2.94102221e-03, 3.20555937e-03,\n",
       "       3.54811461e-03, 3.99724856e-03, 4.59454271e-03, 5.40173263e-03,\n",
       "       6.51235915e-03, 8.07115659e-03, 1.03069245e-02, 1.35893095e-02,\n",
       "       1.85287095e-02, 2.61552389e-02, 3.82449241e-02, 5.79241740e-02,\n",
       "       9.08075102e-02, 1.47170298e-01, 2.46153787e-01, 4.24002869e-01,\n",
       "       7.50381277e-01, 1.36100054e+00, 2.52343781e+00, 4.77090219e+00,\n",
       "       9.17587778e+00, 1.79130676e+01, 3.54230951e+01, 7.08279907e+01,\n",
       "       1.42962549e+02, 2.90885454e+02])"
      ]
     },
     "execution_count": 47,
     "metadata": {},
     "output_type": "execute_result"
    }
   ],
   "source": [
    "i, err = quad(integral, 0, np.inf)\n",
    "T = (mu_e*m_H/k) * (1/rho_g) * (3*Mg/(4*np.pi)) * G * i\n",
    "T"
   ]
  },
  {
   "cell_type": "code",
   "execution_count": 48,
   "id": "600c02c5-b116-4452-9ab3-48f9c760c107",
   "metadata": {},
   "outputs": [
    {
     "data": {
      "image/png": "[encoded data removed]",
      "text/plain": [
       "<Figure size 576x432 with 1 Axes>"
      ]
     },
     "metadata": {
      "needs_background": "light"
     },
     "output_type": "display_data"
    }
   ],
   "source": [
    "plt.figure(figsize=[8,6])\n",
    "plt.plot(r, T, 'r-')\n",
    "plt.xlabel('$r \\,(\\mathrm{kpc})$')\n",
    "plt.ylabel('$T$')# \\,(\\mathrm{keV})$')\n",
    "plt.grid()\n",
    "plt.tight_layout()\n",
    "#plt.savefig('9d')"
   ]
  },
  {
   "cell_type": "code",
   "execution_count": null,
   "id": "97394bbe-3b57-43b2-a516-6452a2b04301",
   "metadata": {},
   "outputs": [],
   "source": []
  },
  {
   "cell_type": "code",
   "execution_count": null,
   "id": "6f713c31-3376-4994-a339-0041668b778c",
   "metadata": {},
   "outputs": [],
   "source": []
  },
  {
   "cell_type": "markdown",
   "id": "8136c461-854e-4a85-bdd4-5bdf10ddb567",
   "metadata": {},
   "source": [
    "f)"
   ]
  },
  {
   "cell_type": "code",
   "execution_count": 49,
   "id": "c9e71ed3-3a48-43a0-b170-fda40cd121b8",
   "metadata": {},
   "outputs": [],
   "source": [
    "def L(r):\n",
    "    T = (mu_e*m_H/k) * (1/rho_g) * (3*Mg/(4*np.pi)) * G * (a_g/(r+a_g)**4) * (M_200/(r+a_h)**2 + Mg/(r+a_g)**3)\n",
    "    e = 3e-27 * T**(1/2) * n_e\n",
    "    integral = 4*np.pi * r**2 * e\n",
    "    return integral"
   ]
  },
  {
   "cell_type": "code",
   "execution_count": 50,
   "id": "c284fff7-b3c3-448f-af58-df8db4a8e695",
   "metadata": {},
   "outputs": [
    {
     "ename": "TypeError",
     "evalue": "only size-1 arrays can be converted to Python scalars",
     "output_type": "error",
     "traceback": [
      "\u001b[0;31m---------------------------------------------------------------------------\u001b[0m",
      "\u001b[0;31mTypeError\u001b[0m                                 Traceback (most recent call last)",
      "\u001b[0;32m<ipython-input-50-16e93979444c>\u001b[0m in \u001b[0;36m<module>\u001b[0;34m\u001b[0m\n\u001b[0;32m----> 1\u001b[0;31m \u001b[0mlum\u001b[0m\u001b[0;34m,\u001b[0m \u001b[0merr\u001b[0m \u001b[0;34m=\u001b[0m \u001b[0mquad\u001b[0m\u001b[0;34m(\u001b[0m\u001b[0mL\u001b[0m\u001b[0;34m,\u001b[0m \u001b[0;36m0\u001b[0m\u001b[0;34m,\u001b[0m \u001b[0mr_200\u001b[0m\u001b[0;34m)\u001b[0m\u001b[0;34m\u001b[0m\u001b[0;34m\u001b[0m\u001b[0m\n\u001b[0m\u001b[1;32m      2\u001b[0m \u001b[0mlum\u001b[0m\u001b[0;34m\u001b[0m\u001b[0;34m\u001b[0m\u001b[0m\n",
      "\u001b[0;32m~/.local/lib/python3.6/site-packages/scipy/integrate/quadpack.py\u001b[0m in \u001b[0;36mquad\u001b[0;34m(func, a, b, args, full_output, epsabs, epsrel, limit, points, weight, wvar, wopts, maxp1, limlst)\u001b[0m\n\u001b[1;32m    350\u001b[0m     \u001b[0;32mif\u001b[0m \u001b[0mweight\u001b[0m \u001b[0;32mis\u001b[0m \u001b[0;32mNone\u001b[0m\u001b[0;34m:\u001b[0m\u001b[0;34m\u001b[0m\u001b[0;34m\u001b[0m\u001b[0m\n\u001b[1;32m    351\u001b[0m         retval = _quad(func, a, b, args, full_output, epsabs, epsrel, limit,\n\u001b[0;32m--> 352\u001b[0;31m                        points)\n\u001b[0m\u001b[1;32m    353\u001b[0m     \u001b[0;32melse\u001b[0m\u001b[0;34m:\u001b[0m\u001b[0;34m\u001b[0m\u001b[0;34m\u001b[0m\u001b[0m\n\u001b[1;32m    354\u001b[0m         \u001b[0;32mif\u001b[0m \u001b[0mpoints\u001b[0m \u001b[0;32mis\u001b[0m \u001b[0;32mnot\u001b[0m \u001b[0;32mNone\u001b[0m\u001b[0;34m:\u001b[0m\u001b[0;34m\u001b[0m\u001b[0;34m\u001b[0m\u001b[0m\n",
      "\u001b[0;32m~/.local/lib/python3.6/site-packages/scipy/integrate/quadpack.py\u001b[0m in \u001b[0;36m_quad\u001b[0;34m(func, a, b, args, full_output, epsabs, epsrel, limit, points)\u001b[0m\n\u001b[1;32m    461\u001b[0m     \u001b[0;32mif\u001b[0m \u001b[0mpoints\u001b[0m \u001b[0;32mis\u001b[0m \u001b[0;32mNone\u001b[0m\u001b[0;34m:\u001b[0m\u001b[0;34m\u001b[0m\u001b[0;34m\u001b[0m\u001b[0m\n\u001b[1;32m    462\u001b[0m         \u001b[0;32mif\u001b[0m \u001b[0minfbounds\u001b[0m \u001b[0;34m==\u001b[0m \u001b[0;36m0\u001b[0m\u001b[0;34m:\u001b[0m\u001b[0;34m\u001b[0m\u001b[0;34m\u001b[0m\u001b[0m\n\u001b[0;32m--> 463\u001b[0;31m             \u001b[0;32mreturn\u001b[0m \u001b[0m_quadpack\u001b[0m\u001b[0;34m.\u001b[0m\u001b[0m_qagse\u001b[0m\u001b[0;34m(\u001b[0m\u001b[0mfunc\u001b[0m\u001b[0;34m,\u001b[0m\u001b[0ma\u001b[0m\u001b[0;34m,\u001b[0m\u001b[0mb\u001b[0m\u001b[0;34m,\u001b[0m\u001b[0margs\u001b[0m\u001b[0;34m,\u001b[0m\u001b[0mfull_output\u001b[0m\u001b[0;34m,\u001b[0m\u001b[0mepsabs\u001b[0m\u001b[0;34m,\u001b[0m\u001b[0mepsrel\u001b[0m\u001b[0;34m,\u001b[0m\u001b[0mlimit\u001b[0m\u001b[0;34m)\u001b[0m\u001b[0;34m\u001b[0m\u001b[0;34m\u001b[0m\u001b[0m\n\u001b[0m\u001b[1;32m    464\u001b[0m         \u001b[0;32melse\u001b[0m\u001b[0;34m:\u001b[0m\u001b[0;34m\u001b[0m\u001b[0;34m\u001b[0m\u001b[0m\n\u001b[1;32m    465\u001b[0m             \u001b[0;32mreturn\u001b[0m \u001b[0m_quadpack\u001b[0m\u001b[0;34m.\u001b[0m\u001b[0m_qagie\u001b[0m\u001b[0;34m(\u001b[0m\u001b[0mfunc\u001b[0m\u001b[0;34m,\u001b[0m\u001b[0mbound\u001b[0m\u001b[0;34m,\u001b[0m\u001b[0minfbounds\u001b[0m\u001b[0;34m,\u001b[0m\u001b[0margs\u001b[0m\u001b[0;34m,\u001b[0m\u001b[0mfull_output\u001b[0m\u001b[0;34m,\u001b[0m\u001b[0mepsabs\u001b[0m\u001b[0;34m,\u001b[0m\u001b[0mepsrel\u001b[0m\u001b[0;34m,\u001b[0m\u001b[0mlimit\u001b[0m\u001b[0;34m)\u001b[0m\u001b[0;34m\u001b[0m\u001b[0;34m\u001b[0m\u001b[0m\n",
      "\u001b[0;31mTypeError\u001b[0m: only size-1 arrays can be converted to Python scalars"
     ]
    }
   ],
   "source": [
    "lum, err = quad(L, 0, r_200)\n",
    "lum"
   ]
  },
  {
   "cell_type": "code",
   "execution_count": null,
   "id": "deb5b056-8ac9-4cf3-b764-cfc315f751a4",
   "metadata": {},
   "outputs": [],
   "source": []
  },
  {
   "cell_type": "markdown",
   "id": "79e7dca4-2bcd-43c7-afd2-5bc02fa3df71",
   "metadata": {},
   "source": [
    "g)"
   ]
  },
  {
   "cell_type": "code",
   "execution_count": null,
   "id": "184739f4-a0a6-4caa-870d-a45b6925f8eb",
   "metadata": {},
   "outputs": [],
   "source": [
    "r = np.logspace(0,4,50)\n",
    "rho_g_1 = ((2*Mg)/(4*np.pi))*(a_g/(r*(r+a_g)**3))\n",
    "rho_beta = (rho_0)/(1+(r/r_c)**2)**(3*beta/2)"
   ]
  },
  {
   "cell_type": "code",
   "execution_count": null,
   "id": "c68ec56e-b910-4ee5-81f6-932dd8970089",
   "metadata": {},
   "outputs": [],
   "source": [
    "plt.figure(figsize=[8,6])\n",
    "plt.plot(r, rho_g_1, 'b-', label='Dehnen ($\\gamma = 1$)')\n",
    "plt.plot(r, rho_beta, 'g--', label=r'$\\beta$-model')\n",
    "plt.xlabel('$r \\,(\\mathrm{kpc})$')\n",
    "plt.ylabel(r'$\\rho \\,(\\mathrm{{M}_\\odot/kpc^3})$')\n",
    "plt.xscale('log')\n",
    "plt.yscale('log')\n",
    "plt.grid()\n",
    "plt.legend()\n",
    "plt.tight_layout()\n",
    "#plt.savefig('9g1')"
   ]
  },
  {
   "cell_type": "code",
   "execution_count": null,
   "id": "e2039bfe-c796-4148-998a-85b6b27a8d52",
   "metadata": {},
   "outputs": [],
   "source": [
    "r = np.logspace(0,4,50)\n",
    "func_f_gas_1 = (Mg * (r/(r + a_g))**2)/(Mg * (r/(r + a_g))**2 + M_200 * (r/(r + a_h))**2)"
   ]
  },
  {
   "cell_type": "code",
   "execution_count": null,
   "id": "331f24a3-1bcd-4ca4-80bf-06865b611f8d",
   "metadata": {},
   "outputs": [],
   "source": [
    "plt.figure(figsize=[8,6])\n",
    "plt.plot(r, func_f_gas_1, 'y-')\n",
    "plt.xlabel('$r \\,(\\mathrm{kpc})$')\n",
    "plt.ylabel('baryon fraction')\n",
    "plt.xscale('log')\n",
    "plt.grid()\n",
    "plt.tight_layout()\n",
    "#plt.savefig('9g2')"
   ]
  },
  {
   "cell_type": "code",
   "execution_count": null,
   "id": "9ff55a25-97e7-4595-ae74-ada68af8bc1a",
   "metadata": {},
   "outputs": [],
   "source": []
  }
 ],
 "metadata": {
  "kernelspec": {
   "display_name": "Python 3",
   "language": "python",
   "name": "python3"
  },
  "language_info": {
   "codemirror_mode": {
    "name": "ipython",
    "version": 3
   },
   "file_extension": ".py",
   "mimetype": "text/x-python",
   "name": "python",
   "nbconvert_exporter": "python",
   "pygments_lexer": "ipython3",
   "version": "3.6.9"
  }
 },
 "nbformat": 4,
 "nbformat_minor": 5
}
